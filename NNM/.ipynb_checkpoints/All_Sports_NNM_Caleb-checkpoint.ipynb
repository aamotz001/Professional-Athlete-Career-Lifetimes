{
 "cells": [
  {
   "cell_type": "code",
   "execution_count": null,
   "id": "b00e8523",
   "metadata": {},
   "outputs": [],
   "source": [
    "# Import our dependencies\n",
    "from sklearn.model_selection import train_test_split\n",
    "from sklearn.preprocessing import StandardScaler,OneHotEncoder\n",
    "from sklearn.metrics import accuracy_score\n",
    "from sklearn.svm import SVC\n",
    "import pandas as pd\n",
    "import tensorflow as tf\n",
    "\n",
    "# Import our input dataset\n",
    "all_start_df = pd.read_csv(\"../Data/Clean_Data/cleaner_start_nhl.csv\", sep=\",\", encoding='latin-1')\n",
    "all_start_df.head()"
   ]
  },
  {
   "cell_type": "code",
   "execution_count": null,
   "id": "145143d6",
   "metadata": {},
   "outputs": [],
   "source": [
    "del all_start_df['Player']\n",
    "# del all_start_df['start_year']\n",
    "# del all_start_df['start_age']\n",
    "all_start_df.head()"
   ]
  },
  {
   "cell_type": "code",
   "execution_count": null,
   "id": "28d053bf",
   "metadata": {},
   "outputs": [],
   "source": [
    "# Generate our categorical variable list\n",
    "start_cat = all_start_df.dtypes[all_start_df.dtypes == \"object\"].index.tolist()\n",
    "\n",
    "\n",
    "# Check the number of unique values in each column\n",
    "all_start_df[start_cat].nunique()"
   ]
  },
  {
   "cell_type": "code",
   "execution_count": null,
   "id": "3bfdbdea",
   "metadata": {},
   "outputs": [],
   "source": [
    "# Create a OneHotEncoder instance\n",
    "enc = OneHotEncoder(sparse=False)\n",
    "\n",
    "# Fit and transform the OneHotEncoder using the categorical variable list\n",
    "encode_df = pd.DataFrame(enc.fit_transform(all_start_df[start_cat]))\n",
    "\n",
    "# Add the encoded variable names to the dataframe\n",
    "encode_df.columns = enc.get_feature_names(start_cat)\n",
    "encode_df.head()"
   ]
  },
  {
   "cell_type": "code",
   "execution_count": null,
   "id": "0931c036",
   "metadata": {},
   "outputs": [],
   "source": [
    "# Merge one-hot encoded features and drop the originals\n",
    "all_start_df = all_start_df.merge(encode_df,left_index=True, right_index=True)\n",
    "all_start_df = all_start_df.drop(start_cat,1)\n",
    "all_start_df.head()"
   ]
  },
  {
   "cell_type": "code",
   "execution_count": null,
   "id": "dddc04d6",
   "metadata": {},
   "outputs": [],
   "source": [
    "# Remove years_played target from features data\n",
    "y = all_start_df.years_played.values\n",
    "X = all_start_df.drop(columns=[\"years_played\"]).values\n",
    "\n",
    "# Split training/test datasets\n",
    "X_train, X_test, y_train, y_test = train_test_split(X, y, random_state=42)\n",
    "\n",
    "# Create a StandardScaler instance\n",
    "scaler = StandardScaler()\n",
    "\n",
    "# Fit the StandardScaler\n",
    "X_scaler = scaler.fit(X_train)\n",
    "\n",
    "# Scale the data\n",
    "X_train_scaled = X_scaler.transform(X_train)\n",
    "X_test_scaled = X_scaler.transform(X_test)"
   ]
  },
  {
   "cell_type": "code",
   "execution_count": null,
   "id": "d8067408",
   "metadata": {},
   "outputs": [],
   "source": [
    "# Create the SVM model\n",
    "# svm = SVC(kernel='linear')\n",
    "\n",
    "# Train the model\n",
    "# svm.fit(X_train, y_train)\n",
    "\n",
    "# Evaluate the model\n",
    "# y_pred = svm.predict(X_test)\n",
    "# print(f\" SVM model accuracy: {accuracy_score(y_test,y_pred):.3f}\")"
   ]
  },
  {
   "cell_type": "code",
   "execution_count": null,
   "id": "193e1e4e",
   "metadata": {},
   "outputs": [],
   "source": [
    "# Define the model - deep neural net\n",
    "number_input_features = len(X_train_scaled[0])\n",
    "hidden_nodes_layer1 =  125\n",
    "hidden_nodes_layer2 = 25\n",
    "\n",
    "nn = tf.keras.models.Sequential()\n",
    "\n",
    "# First hidden layer\n",
    "nn.add(\n",
    "    tf.keras.layers.Dense(units=hidden_nodes_layer1, input_dim=number_input_features, activation=\"relu\")\n",
    ")\n",
    "\n",
    "# Second hidden layer\n",
    "nn.add(tf.keras.layers.Dense(units=hidden_nodes_layer2, activation=\"relu\"))\n",
    "\n",
    "\n",
    "# Output layer\n",
    "nn.add(tf.keras.layers.Dense(units=1, activation=\"sigmoid\"))\n",
    "\n",
    "# Compile the Sequential model together and customize metrics\n",
    "nn.compile(loss=\"categorical_crossentropy\", optimizer=\"adam\", metrics=[\"accuracy\"])\n",
    "nn.output_shape"
   ]
  },
  {
   "cell_type": "code",
   "execution_count": null,
   "id": "422b5e00",
   "metadata": {},
   "outputs": [],
   "source": [
    "X_test_scaled[5]"
   ]
  },
  {
   "cell_type": "code",
   "execution_count": null,
   "id": "7d451f22",
   "metadata": {},
   "outputs": [],
   "source": [
    "y_train"
   ]
  },
  {
   "cell_type": "code",
   "execution_count": null,
   "id": "bbaaf20a",
   "metadata": {},
   "outputs": [],
   "source": [
    "# Train the model \n",
    "fit_model = nn.fit(X_train_scaled, y_train, epochs=20) \n",
    "# Evaluate the model using the test data \n",
    "model_loss, model_accuracy = nn.evaluate(X_test_scaled,y_test,verbose=2)\n",
    "print(f\"Loss: {model_loss}, Accuracy: {model_accuracy}\")"
   ]
  },
  {
   "cell_type": "code",
   "execution_count": null,
   "id": "6e4f6f70",
   "metadata": {},
   "outputs": [],
   "source": [
    "nn.predict(X_test_scaled,verbose=2)"
   ]
  },
  {
   "cell_type": "code",
   "execution_count": null,
   "id": "54c8406e",
   "metadata": {},
   "outputs": [],
   "source": []
  }
 ],
 "metadata": {
  "kernelspec": {
   "display_name": "mlenv",
   "language": "python",
   "name": "mlenv"
  },
  "language_info": {
   "codemirror_mode": {
    "name": "ipython",
    "version": 3
   },
   "file_extension": ".py",
   "mimetype": "text/x-python",
   "name": "python",
   "nbconvert_exporter": "python",
   "pygments_lexer": "ipython3",
   "version": "3.7.10"
  }
 },
 "nbformat": 4,
 "nbformat_minor": 5
}
