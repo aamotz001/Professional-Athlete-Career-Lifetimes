{
 "cells": [
  {
   "cell_type": "code",
   "execution_count": 1,
   "id": "7f0e8af0",
   "metadata": {},
   "outputs": [],
   "source": [
    "from pandas import pandas as pd\n",
    "import numpy as np"
   ]
  },
  {
   "cell_type": "code",
   "execution_count": 2,
   "id": "650fea08",
   "metadata": {},
   "outputs": [
    {
     "ename": "FileNotFoundError",
     "evalue": "[Errno 2] No such file or directory: 'Appearances_MLB.csv'",
     "output_type": "error",
     "traceback": [
      "\u001b[1;31m---------------------------------------------------------------------------\u001b[0m",
      "\u001b[1;31mFileNotFoundError\u001b[0m                         Traceback (most recent call last)",
      "\u001b[1;32m<ipython-input-2-aa42e7323f07>\u001b[0m in \u001b[0;36m<module>\u001b[1;34m\u001b[0m\n\u001b[1;32m----> 1\u001b[1;33m \u001b[0mmlb_app_df\u001b[0m \u001b[1;33m=\u001b[0m \u001b[0mpd\u001b[0m\u001b[1;33m.\u001b[0m\u001b[0mread_csv\u001b[0m\u001b[1;33m(\u001b[0m\u001b[1;34m\"Appearances_MLB.csv\"\u001b[0m\u001b[1;33m)\u001b[0m\u001b[1;33m\u001b[0m\u001b[1;33m\u001b[0m\u001b[0m\n\u001b[0m\u001b[0;32m      2\u001b[0m \u001b[0mmlb_app_df\u001b[0m\u001b[1;33m.\u001b[0m\u001b[0mhead\u001b[0m\u001b[1;33m(\u001b[0m\u001b[1;33m)\u001b[0m\u001b[1;33m\u001b[0m\u001b[1;33m\u001b[0m\u001b[0m\n",
      "\u001b[1;32m~\\anaconda3\\envs\\PythonData\\lib\\site-packages\\pandas\\io\\parsers.py\u001b[0m in \u001b[0;36mread_csv\u001b[1;34m(filepath_or_buffer, sep, delimiter, header, names, index_col, usecols, squeeze, prefix, mangle_dupe_cols, dtype, engine, converters, true_values, false_values, skipinitialspace, skiprows, skipfooter, nrows, na_values, keep_default_na, na_filter, verbose, skip_blank_lines, parse_dates, infer_datetime_format, keep_date_col, date_parser, dayfirst, cache_dates, iterator, chunksize, compression, thousands, decimal, lineterminator, quotechar, quoting, doublequote, escapechar, comment, encoding, dialect, error_bad_lines, warn_bad_lines, delim_whitespace, low_memory, memory_map, float_precision, storage_options)\u001b[0m\n\u001b[0;32m    608\u001b[0m     \u001b[0mkwds\u001b[0m\u001b[1;33m.\u001b[0m\u001b[0mupdate\u001b[0m\u001b[1;33m(\u001b[0m\u001b[0mkwds_defaults\u001b[0m\u001b[1;33m)\u001b[0m\u001b[1;33m\u001b[0m\u001b[1;33m\u001b[0m\u001b[0m\n\u001b[0;32m    609\u001b[0m \u001b[1;33m\u001b[0m\u001b[0m\n\u001b[1;32m--> 610\u001b[1;33m     \u001b[1;32mreturn\u001b[0m \u001b[0m_read\u001b[0m\u001b[1;33m(\u001b[0m\u001b[0mfilepath_or_buffer\u001b[0m\u001b[1;33m,\u001b[0m \u001b[0mkwds\u001b[0m\u001b[1;33m)\u001b[0m\u001b[1;33m\u001b[0m\u001b[1;33m\u001b[0m\u001b[0m\n\u001b[0m\u001b[0;32m    611\u001b[0m \u001b[1;33m\u001b[0m\u001b[0m\n\u001b[0;32m    612\u001b[0m \u001b[1;33m\u001b[0m\u001b[0m\n",
      "\u001b[1;32m~\\anaconda3\\envs\\PythonData\\lib\\site-packages\\pandas\\io\\parsers.py\u001b[0m in \u001b[0;36m_read\u001b[1;34m(filepath_or_buffer, kwds)\u001b[0m\n\u001b[0;32m    460\u001b[0m \u001b[1;33m\u001b[0m\u001b[0m\n\u001b[0;32m    461\u001b[0m     \u001b[1;31m# Create the parser.\u001b[0m\u001b[1;33m\u001b[0m\u001b[1;33m\u001b[0m\u001b[1;33m\u001b[0m\u001b[0m\n\u001b[1;32m--> 462\u001b[1;33m     \u001b[0mparser\u001b[0m \u001b[1;33m=\u001b[0m \u001b[0mTextFileReader\u001b[0m\u001b[1;33m(\u001b[0m\u001b[0mfilepath_or_buffer\u001b[0m\u001b[1;33m,\u001b[0m \u001b[1;33m**\u001b[0m\u001b[0mkwds\u001b[0m\u001b[1;33m)\u001b[0m\u001b[1;33m\u001b[0m\u001b[1;33m\u001b[0m\u001b[0m\n\u001b[0m\u001b[0;32m    463\u001b[0m \u001b[1;33m\u001b[0m\u001b[0m\n\u001b[0;32m    464\u001b[0m     \u001b[1;32mif\u001b[0m \u001b[0mchunksize\u001b[0m \u001b[1;32mor\u001b[0m \u001b[0miterator\u001b[0m\u001b[1;33m:\u001b[0m\u001b[1;33m\u001b[0m\u001b[1;33m\u001b[0m\u001b[0m\n",
      "\u001b[1;32m~\\anaconda3\\envs\\PythonData\\lib\\site-packages\\pandas\\io\\parsers.py\u001b[0m in \u001b[0;36m__init__\u001b[1;34m(self, f, engine, **kwds)\u001b[0m\n\u001b[0;32m    817\u001b[0m             \u001b[0mself\u001b[0m\u001b[1;33m.\u001b[0m\u001b[0moptions\u001b[0m\u001b[1;33m[\u001b[0m\u001b[1;34m\"has_index_names\"\u001b[0m\u001b[1;33m]\u001b[0m \u001b[1;33m=\u001b[0m \u001b[0mkwds\u001b[0m\u001b[1;33m[\u001b[0m\u001b[1;34m\"has_index_names\"\u001b[0m\u001b[1;33m]\u001b[0m\u001b[1;33m\u001b[0m\u001b[1;33m\u001b[0m\u001b[0m\n\u001b[0;32m    818\u001b[0m \u001b[1;33m\u001b[0m\u001b[0m\n\u001b[1;32m--> 819\u001b[1;33m         \u001b[0mself\u001b[0m\u001b[1;33m.\u001b[0m\u001b[0m_engine\u001b[0m \u001b[1;33m=\u001b[0m \u001b[0mself\u001b[0m\u001b[1;33m.\u001b[0m\u001b[0m_make_engine\u001b[0m\u001b[1;33m(\u001b[0m\u001b[0mself\u001b[0m\u001b[1;33m.\u001b[0m\u001b[0mengine\u001b[0m\u001b[1;33m)\u001b[0m\u001b[1;33m\u001b[0m\u001b[1;33m\u001b[0m\u001b[0m\n\u001b[0m\u001b[0;32m    820\u001b[0m \u001b[1;33m\u001b[0m\u001b[0m\n\u001b[0;32m    821\u001b[0m     \u001b[1;32mdef\u001b[0m \u001b[0mclose\u001b[0m\u001b[1;33m(\u001b[0m\u001b[0mself\u001b[0m\u001b[1;33m)\u001b[0m\u001b[1;33m:\u001b[0m\u001b[1;33m\u001b[0m\u001b[1;33m\u001b[0m\u001b[0m\n",
      "\u001b[1;32m~\\anaconda3\\envs\\PythonData\\lib\\site-packages\\pandas\\io\\parsers.py\u001b[0m in \u001b[0;36m_make_engine\u001b[1;34m(self, engine)\u001b[0m\n\u001b[0;32m   1048\u001b[0m             )\n\u001b[0;32m   1049\u001b[0m         \u001b[1;31m# error: Too many arguments for \"ParserBase\"\u001b[0m\u001b[1;33m\u001b[0m\u001b[1;33m\u001b[0m\u001b[1;33m\u001b[0m\u001b[0m\n\u001b[1;32m-> 1050\u001b[1;33m         \u001b[1;32mreturn\u001b[0m \u001b[0mmapping\u001b[0m\u001b[1;33m[\u001b[0m\u001b[0mengine\u001b[0m\u001b[1;33m]\u001b[0m\u001b[1;33m(\u001b[0m\u001b[0mself\u001b[0m\u001b[1;33m.\u001b[0m\u001b[0mf\u001b[0m\u001b[1;33m,\u001b[0m \u001b[1;33m**\u001b[0m\u001b[0mself\u001b[0m\u001b[1;33m.\u001b[0m\u001b[0moptions\u001b[0m\u001b[1;33m)\u001b[0m  \u001b[1;31m# type: ignore[call-arg]\u001b[0m\u001b[1;33m\u001b[0m\u001b[1;33m\u001b[0m\u001b[0m\n\u001b[0m\u001b[0;32m   1051\u001b[0m \u001b[1;33m\u001b[0m\u001b[0m\n\u001b[0;32m   1052\u001b[0m     \u001b[1;32mdef\u001b[0m \u001b[0m_failover_to_python\u001b[0m\u001b[1;33m(\u001b[0m\u001b[0mself\u001b[0m\u001b[1;33m)\u001b[0m\u001b[1;33m:\u001b[0m\u001b[1;33m\u001b[0m\u001b[1;33m\u001b[0m\u001b[0m\n",
      "\u001b[1;32m~\\anaconda3\\envs\\PythonData\\lib\\site-packages\\pandas\\io\\parsers.py\u001b[0m in \u001b[0;36m__init__\u001b[1;34m(self, src, **kwds)\u001b[0m\n\u001b[0;32m   1865\u001b[0m \u001b[1;33m\u001b[0m\u001b[0m\n\u001b[0;32m   1866\u001b[0m         \u001b[1;31m# open handles\u001b[0m\u001b[1;33m\u001b[0m\u001b[1;33m\u001b[0m\u001b[1;33m\u001b[0m\u001b[0m\n\u001b[1;32m-> 1867\u001b[1;33m         \u001b[0mself\u001b[0m\u001b[1;33m.\u001b[0m\u001b[0m_open_handles\u001b[0m\u001b[1;33m(\u001b[0m\u001b[0msrc\u001b[0m\u001b[1;33m,\u001b[0m \u001b[0mkwds\u001b[0m\u001b[1;33m)\u001b[0m\u001b[1;33m\u001b[0m\u001b[1;33m\u001b[0m\u001b[0m\n\u001b[0m\u001b[0;32m   1868\u001b[0m         \u001b[1;32massert\u001b[0m \u001b[0mself\u001b[0m\u001b[1;33m.\u001b[0m\u001b[0mhandles\u001b[0m \u001b[1;32mis\u001b[0m \u001b[1;32mnot\u001b[0m \u001b[1;32mNone\u001b[0m\u001b[1;33m\u001b[0m\u001b[1;33m\u001b[0m\u001b[0m\n\u001b[0;32m   1869\u001b[0m         \u001b[1;32mfor\u001b[0m \u001b[0mkey\u001b[0m \u001b[1;32min\u001b[0m \u001b[1;33m(\u001b[0m\u001b[1;34m\"storage_options\"\u001b[0m\u001b[1;33m,\u001b[0m \u001b[1;34m\"encoding\"\u001b[0m\u001b[1;33m,\u001b[0m \u001b[1;34m\"memory_map\"\u001b[0m\u001b[1;33m,\u001b[0m \u001b[1;34m\"compression\"\u001b[0m\u001b[1;33m)\u001b[0m\u001b[1;33m:\u001b[0m\u001b[1;33m\u001b[0m\u001b[1;33m\u001b[0m\u001b[0m\n",
      "\u001b[1;32m~\\anaconda3\\envs\\PythonData\\lib\\site-packages\\pandas\\io\\parsers.py\u001b[0m in \u001b[0;36m_open_handles\u001b[1;34m(self, src, kwds)\u001b[0m\n\u001b[0;32m   1366\u001b[0m             \u001b[0mcompression\u001b[0m\u001b[1;33m=\u001b[0m\u001b[0mkwds\u001b[0m\u001b[1;33m.\u001b[0m\u001b[0mget\u001b[0m\u001b[1;33m(\u001b[0m\u001b[1;34m\"compression\"\u001b[0m\u001b[1;33m,\u001b[0m \u001b[1;32mNone\u001b[0m\u001b[1;33m)\u001b[0m\u001b[1;33m,\u001b[0m\u001b[1;33m\u001b[0m\u001b[1;33m\u001b[0m\u001b[0m\n\u001b[0;32m   1367\u001b[0m             \u001b[0mmemory_map\u001b[0m\u001b[1;33m=\u001b[0m\u001b[0mkwds\u001b[0m\u001b[1;33m.\u001b[0m\u001b[0mget\u001b[0m\u001b[1;33m(\u001b[0m\u001b[1;34m\"memory_map\"\u001b[0m\u001b[1;33m,\u001b[0m \u001b[1;32mFalse\u001b[0m\u001b[1;33m)\u001b[0m\u001b[1;33m,\u001b[0m\u001b[1;33m\u001b[0m\u001b[1;33m\u001b[0m\u001b[0m\n\u001b[1;32m-> 1368\u001b[1;33m             \u001b[0mstorage_options\u001b[0m\u001b[1;33m=\u001b[0m\u001b[0mkwds\u001b[0m\u001b[1;33m.\u001b[0m\u001b[0mget\u001b[0m\u001b[1;33m(\u001b[0m\u001b[1;34m\"storage_options\"\u001b[0m\u001b[1;33m,\u001b[0m \u001b[1;32mNone\u001b[0m\u001b[1;33m)\u001b[0m\u001b[1;33m,\u001b[0m\u001b[1;33m\u001b[0m\u001b[1;33m\u001b[0m\u001b[0m\n\u001b[0m\u001b[0;32m   1369\u001b[0m         )\n\u001b[0;32m   1370\u001b[0m \u001b[1;33m\u001b[0m\u001b[0m\n",
      "\u001b[1;32m~\\anaconda3\\envs\\PythonData\\lib\\site-packages\\pandas\\io\\common.py\u001b[0m in \u001b[0;36mget_handle\u001b[1;34m(path_or_buf, mode, encoding, compression, memory_map, is_text, errors, storage_options)\u001b[0m\n\u001b[0;32m    645\u001b[0m                 \u001b[0mencoding\u001b[0m\u001b[1;33m=\u001b[0m\u001b[0mioargs\u001b[0m\u001b[1;33m.\u001b[0m\u001b[0mencoding\u001b[0m\u001b[1;33m,\u001b[0m\u001b[1;33m\u001b[0m\u001b[1;33m\u001b[0m\u001b[0m\n\u001b[0;32m    646\u001b[0m                 \u001b[0merrors\u001b[0m\u001b[1;33m=\u001b[0m\u001b[0merrors\u001b[0m\u001b[1;33m,\u001b[0m\u001b[1;33m\u001b[0m\u001b[1;33m\u001b[0m\u001b[0m\n\u001b[1;32m--> 647\u001b[1;33m                 \u001b[0mnewline\u001b[0m\u001b[1;33m=\u001b[0m\u001b[1;34m\"\"\u001b[0m\u001b[1;33m,\u001b[0m\u001b[1;33m\u001b[0m\u001b[1;33m\u001b[0m\u001b[0m\n\u001b[0m\u001b[0;32m    648\u001b[0m             )\n\u001b[0;32m    649\u001b[0m         \u001b[1;32melse\u001b[0m\u001b[1;33m:\u001b[0m\u001b[1;33m\u001b[0m\u001b[1;33m\u001b[0m\u001b[0m\n",
      "\u001b[1;31mFileNotFoundError\u001b[0m: [Errno 2] No such file or directory: 'Appearances_MLB.csv'"
     ]
    }
   ],
   "source": [
    "mlb_app_df = pd.read_csv(\"Appearances_MLB.csv\")\n",
    "mlb_app_df.head()"
   ]
  },
  {
   "cell_type": "code",
   "execution_count": null,
   "id": "0e8e4424",
   "metadata": {},
   "outputs": [],
   "source": [
    "mlb_app_df[\"G_if\"] = (mlb_app_df[\"G_1b\"] + mlb_app_df[\"G_2b\"] + mlb_app_df[\"G_3b\"] + mlb_app_df[\"G_ss\"])\n",
    "mlb_app_df.head()"
   ]
  },
  {
   "cell_type": "code",
   "execution_count": null,
   "id": "9e915a3f",
   "metadata": {},
   "outputs": [],
   "source": [
    "mlb_app_df.dtypes\n"
   ]
  },
  {
   "cell_type": "code",
   "execution_count": null,
   "id": "1484725f",
   "metadata": {},
   "outputs": [],
   "source": [
    "mlb_df = mlb_app_df.filter([\"yearID\",\"playerID\",\"G_p\",\"G_c\",\"G_of\",\"G_if\"], axis = 1)\n",
    "mlb_df.head()"
   ]
  },
  {
   "cell_type": "code",
   "execution_count": null,
   "id": "e2468b81",
   "metadata": {},
   "outputs": [],
   "source": [
    "mlb_year_df = mlb_app_df.filter([\"playerID\",\"G_p\",\"G_c\",\"G_of\",\"G_if\"], axis = 1)\n",
    "mlb_year_df.head()"
   ]
  },
  {
   "cell_type": "code",
   "execution_count": null,
   "id": "e0c4df16",
   "metadata": {},
   "outputs": [],
   "source": [
    "mlb_year_df[\"position\"] = mlb_year_df[[\"G_p\",\"G_c\",\"G_of\",\"G_if\"]].idxmax(axis=1)\n",
    "mlb_year_df.head()"
   ]
  },
  {
   "cell_type": "code",
   "execution_count": null,
   "id": "a8a2f430",
   "metadata": {},
   "outputs": [],
   "source": [
    "mlb_year_df = mlb_year_df.drop([\"G_p\",\"G_c\",\"G_of\",\"G_if\"], axis = 1)\n",
    "mlb_year_df.head()"
   ]
  },
  {
   "cell_type": "code",
   "execution_count": null,
   "id": "55a8e511",
   "metadata": {},
   "outputs": [],
   "source": [
    "mlb_player_df= pd.read_csv(\"DataSets/MLB.csv\")\n",
    "mlb_player_df.head()"
   ]
  },
  {
   "cell_type": "code",
   "execution_count": null,
   "id": "e7ee7834",
   "metadata": {},
   "outputs": [],
   "source": [
    "mlb_player_df = mlb_player_df.drop([\"birthMonth\", \"birthDay\", \"birthCountry\", \"birthState\", \"birthCity\", \"deathYear\", \"deathMonth\", \"birthMonth\", \"deathDay\", \"nameLast\", \"nameGiven\", \"weight\", \"height\"],axis = 1)\n",
    "mlb_player_df.head()"
   ]
  },
  {
   "cell_type": "code",
   "execution_count": null,
   "id": "73cf2eed",
   "metadata": {},
   "outputs": [],
   "source": [
    "mlb_player_df = mlb_player_df.drop([\"deathCountry\",\"deathState\",\"deathCity\",\"nameFirst\",\"bats\",\"throws\",\"retroID\",\"bbrefID\"],axis=1)\n",
    "mlb_player_df.head()"
   ]
  },
  {
   "cell_type": "code",
   "execution_count": null,
   "id": "1f489f5d",
   "metadata": {},
   "outputs": [],
   "source": [
    "mlb_player_df.dtypes"
   ]
  },
  {
   "cell_type": "code",
   "execution_count": null,
   "id": "0c5d12d4",
   "metadata": {},
   "outputs": [],
   "source": [
    "mlb_player_df[\"debut\"] = pd.to_datetime(mlb_player_df[\"debut\"])\n",
    "mlb_player_df.head()"
   ]
  },
  {
   "cell_type": "code",
   "execution_count": null,
   "id": "a431aa4c",
   "metadata": {},
   "outputs": [],
   "source": [
    "mlb_player_df.dtypes"
   ]
  },
  {
   "cell_type": "code",
   "execution_count": null,
   "id": "73348d8e",
   "metadata": {},
   "outputs": [],
   "source": [
    "mlb_player_df[\"finalGame\"] = pd.to_datetime(mlb_player_df[\"finalGame\"])\n",
    "mlb_player_df.head()"
   ]
  },
  {
   "cell_type": "code",
   "execution_count": null,
   "id": "9a2c85ab",
   "metadata": {},
   "outputs": [],
   "source": [
    "mlb_player_df[\"years_played\"] = mlb_player_df[\"finalGame\"] - mlb_player_df[\"debut\"]\n",
    "mlb_player_df.head()"
   ]
  },
  {
   "cell_type": "code",
   "execution_count": null,
   "id": "ad6df33d",
   "metadata": {},
   "outputs": [],
   "source": [
    "import numpy as np"
   ]
  },
  {
   "cell_type": "code",
   "execution_count": null,
   "id": "f4a635ec",
   "metadata": {},
   "outputs": [],
   "source": [
    "mlb_player_df[\"years_played\"] = mlb_player_df[\"years_played\"]/np.timedelta64(1,'Y')\n",
    "mlb_player_df.head()"
   ]
  },
  {
   "cell_type": "code",
   "execution_count": null,
   "id": "bf7ead2f",
   "metadata": {},
   "outputs": [],
   "source": [
    "mlb_player_df['first_year'] = pd.DatetimeIndex(mlb_player_df['debut']).year\n",
    "mlb_player_df.head()"
   ]
  },
  {
   "cell_type": "code",
   "execution_count": null,
   "id": "db4458e6",
   "metadata": {},
   "outputs": [],
   "source": [
    "mlb_player_df['last_year'] = pd.DatetimeIndex(mlb_player_df['finalGame']).year\n",
    "mlb_player_df.head()"
   ]
  },
  {
   "cell_type": "code",
   "execution_count": null,
   "id": "e9acd15a",
   "metadata": {},
   "outputs": [],
   "source": [
    "mlb_player_df = mlb_player_df.drop([\"debut\", \"finalGame\"],axis=1)\n",
    "mlb_player_df.head()"
   ]
  },
  {
   "cell_type": "code",
   "execution_count": null,
   "id": "69e9cb4d",
   "metadata": {},
   "outputs": [],
   "source": [
    "mlb_year_df.head()"
   ]
  },
  {
   "cell_type": "code",
   "execution_count": null,
   "id": "66eba6ee",
   "metadata": {},
   "outputs": [],
   "source": [
    "all_mlb_df = mlb_player_df.merge(mlb_year_df, how=\"inner\", on=\"playerID\") \n",
    "all_mlb_df.head()"
   ]
  },
  {
   "cell_type": "code",
   "execution_count": null,
   "id": "615d3265",
   "metadata": {},
   "outputs": [],
   "source": [
    "all_mlb_df[\"years_played\"] = all_mlb_df[\"years_played\"].apply(np.floor)\n",
    "all_mlb_df.head()"
   ]
  },
  {
   "cell_type": "code",
   "execution_count": null,
   "id": "f2aa4706",
   "metadata": {},
   "outputs": [],
   "source": [
    "all_mlb_df.dtypes"
   ]
  },
  {
   "cell_type": "code",
   "execution_count": null,
   "id": "8282d155",
   "metadata": {},
   "outputs": [],
   "source": [
    "all_mlb_df = all_mlb_df.loc[(all_mlb_df[\"first_year\"]>=2014) & (all_mlb_df[\"last_year\"]<=2018)]\n",
    "all_mlb_df.head()"
   ]
  },
  {
   "cell_type": "code",
   "execution_count": null,
   "id": "38fd6031",
   "metadata": {},
   "outputs": [],
   "source": [
    "all_mlb_df[\"birthYear\"] = all_mlb_df[\"birthYear\"].astype(int)\n",
    "all_mlb_df.head()"
   ]
  },
  {
   "cell_type": "code",
   "execution_count": null,
   "id": "76c132a7",
   "metadata": {},
   "outputs": [],
   "source": [
    "all_mlb_df[\"first_year\"] = pd.to_datetime(all_mlb_df[\"first_year\"], errors='coerce').dt.strftime('%Y')\n",
    "all_mlb_df.head()"
   ]
  },
  {
   "cell_type": "code",
   "execution_count": null,
   "id": "5777c76d",
   "metadata": {},
   "outputs": [],
   "source": [
    "all_mlb_df[\"last_year\"] = pd.to_datetime(all_mlb_df[\"last_year\"], errors='coerce').dt.strftime('%Y')\n",
    "all_mlb_df.head()"
   ]
  },
  {
   "cell_type": "code",
   "execution_count": null,
   "id": "7c8bf997",
   "metadata": {},
   "outputs": [],
   "source": [
    "all_mlb_df[\"birthYear\"] = pd.to_datetime(all_mlb_df[\"birthYear\"], errors='coerce').dt.strftime('%Y')\n",
    "all_mlb_df.head()"
   ]
  },
  {
   "cell_type": "code",
   "execution_count": null,
   "id": "92194273",
   "metadata": {},
   "outputs": [],
   "source": [
    "all_mlb_df[\"sport\"] = \"mlb\"\n",
    "all_mlb_df.head()"
   ]
  },
  {
   "cell_type": "code",
   "execution_count": null,
   "id": "29239398",
   "metadata": {},
   "outputs": [],
   "source": [
    "all_mlb_df.rename(co)"
   ]
  }
 ],
 "metadata": {
  "kernelspec": {
   "display_name": "PythonData",
   "language": "python",
   "name": "pythondata"
  },
  "language_info": {
   "codemirror_mode": {
    "name": "ipython",
    "version": 3
   },
   "file_extension": ".py",
   "mimetype": "text/x-python",
   "name": "python",
   "nbconvert_exporter": "python",
   "pygments_lexer": "ipython3",
   "version": "3.7.9"
  }
 },
 "nbformat": 4,
 "nbformat_minor": 5
}
